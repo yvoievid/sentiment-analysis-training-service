{
 "metadata": {
  "kernelspec": {
   "display_name": "Python 3",
   "language": "python",
   "name": "python3"
  },
  "language_info": {
   "name": "python",
   "version": "3.10.13",
   "mimetype": "text/x-python",
   "codemirror_mode": {
    "name": "ipython",
    "version": 3
   },
   "pygments_lexer": "ipython3",
   "nbconvert_exporter": "python",
   "file_extension": ".py"
  },
  "kaggle": {
   "accelerator": "nvidiaTeslaT4",
   "dataSources": [],
   "dockerImageVersionId": 30733,
   "isInternetEnabled": true,
   "language": "python",
   "sourceType": "notebook",
   "isGpuEnabled": true
  }
 },
 "nbformat_minor": 5,
 "nbformat": 4,
 "cells": [
  {
   "cell_type": "code",
   "source": [
    "import os\n",
    "!pip install mlflow dagshub"
   ],
   "metadata": {
    "_kg_hide-output": true,
    "execution": {
     "iopub.status.idle": "2024-06-06T17:29:04.258214Z",
     "shell.execute_reply.started": "2024-06-06T17:28:34.830495Z",
     "shell.execute_reply": "2024-06-06T17:29:04.257066Z"
    },
    "trusted": true
   },
   "execution_count": 1,
   "outputs": [
    {
     "name": "stdout",
     "text": "Installing collected packages: rfc3986, fusepy, commonmark, aniso8601, treelib, rich, querystring-parser, pathvalidate, graphql-core, dacite, cachetools, requests-toolbelt, httpcore, gunicorn, graphql-relay, gql, botocore, httpx, graphene, mlflow, dagshub\n  Attempting uninstall: rich\n    Found existing installation: rich 13.7.0\n    Uninstalling rich-13.7.0:\n      Successfully uninstalled rich-13.7.0\n  Attempting uninstall: dacite\n    Found existing installation: dacite 1.8.1\n    Uninstalling dacite-1.8.1:\n      Successfully uninstalled dacite-1.8.1\n  Attempting uninstall: cachetools\n    Found existing installation: cachetools 4.2.4\n    Uninstalling cachetools-4.2.4:\n      Successfully uninstalled cachetools-4.2.4\n  Attempting uninstall: requests-toolbelt\n    Found existing installation: requests-toolbelt 0.10.1\n    Uninstalling requests-toolbelt-0.10.1:\n      Successfully uninstalled requests-toolbelt-0.10.1\n  Attempting uninstall: httpcore\n    Found existing installation: httpcore 1.0.5\n    Uninstalling httpcore-1.0.5:\n      Successfully uninstalled httpcore-1.0.5\n  Attempting uninstall: botocore\n    Found existing installation: botocore 1.34.106\n    Uninstalling botocore-1.34.106:\n      Successfully uninstalled botocore-1.34.106\n  Attempting uninstall: httpx\n    Found existing installation: httpx 0.27.0\n    Uninstalling httpx-0.27.0:\n      Successfully uninstalled httpx-0.27.0\n\u001B[31mERROR: pip's dependency resolver does not currently take into account all the packages that are installed. This behaviour is the source of the following dependency conflicts.\ncudf 24.4.1 requires cubinlinker, which is not installed.\ncudf 24.4.1 requires cupy-cuda11x>=12.0.0, which is not installed.\ncudf 24.4.1 requires ptxcompiler, which is not installed.\ncuml 24.4.0 requires cupy-cuda11x>=12.0.0, which is not installed.\ndask-cudf 24.4.1 requires cupy-cuda11x>=12.0.0, which is not installed.\nkeras-nlp 0.12.1 requires keras-core, which is not installed.\ntensorflow-decision-forests 1.8.1 requires wurlitzer, which is not installed.\naiobotocore 2.13.0 requires aiohttp<4.0.0,>=3.9.2, but you have aiohttp 3.9.1 which is incompatible.\naiobotocore 2.13.0 requires botocore<1.34.107,>=1.34.70, but you have botocore 1.29.165 which is incompatible.\ncudf 24.4.1 requires cuda-python<12.0a0,>=11.7.1, but you have cuda-python 12.5.0 which is incompatible.\njupyterlab 4.2.1 requires httpx>=0.25.0, but you have httpx 0.23.3 which is incompatible.\njupyterlab 4.2.1 requires jupyter-lsp>=2.0.0, but you have jupyter-lsp 1.5.1 which is incompatible.\njupyterlab-lsp 5.1.0 requires jupyter-lsp>=2.0.0, but you have jupyter-lsp 1.5.1 which is incompatible.\nkfp 2.5.0 requires google-cloud-storage<3,>=2.2.1, but you have google-cloud-storage 1.44.0 which is incompatible.\nkfp 2.5.0 requires requests-toolbelt<1,>=0.8.0, but you have requests-toolbelt 1.0.0 which is incompatible.\ntensorflow 2.15.0 requires keras<2.16,>=2.15.0, but you have keras 3.3.3 which is incompatible.\nydata-profiling 4.6.4 requires dacite>=1.8, but you have dacite 1.6.0 which is incompatible.\nydata-profiling 4.6.4 requires numpy<1.26,>=1.16.0, but you have numpy 1.26.4 which is incompatible.\u001B[0m\u001B[31m\n\u001B[0mSuccessfully installed aniso8601-9.0.1 botocore-1.29.165 cachetools-5.3.2 commonmark-0.9.1 dacite-1.6.0 dagshub-0.3.27 fusepy-3.0.1 gql-3.5.0 graphene-3.3 graphql-core-3.2.3 graphql-relay-3.2.0 gunicorn-22.0.0 httpcore-0.16.3 httpx-0.23.3 mlflow-2.13.2 pathvalidate-3.0.0 querystring-parser-1.2.4 requests-toolbelt-1.0.0 rfc3986-1.5.0 rich-13.1.0 treelib-1.6.4\n",
     "output_type": "stream"
    }
   ],
   "id": "d35d555ead034184"
  },
  {
   "cell_type": "code",
   "source": "!curl \"https://awscli.amazonaws.com/awscli-exe-linux-x86_64.zip\" -o \"awscliv2.zip\"\n!unzip -o awscliv2.zip \n!./aws/install --update",
   "metadata": {
    "trusted": true
   },
   "execution_count": null,
   "outputs": [],
   "id": "b63cee1f8def9a30"
  },
  {
   "cell_type": "code",
   "source": [
    "!aws configure set aws_access_key_id '<>'\n",
    "!aws configure set aws_secret_access_key '<>'"
   ],
   "metadata": {
    "execution": {
     "iopub.status.busy": "2024-06-06T17:29:11.967843Z",
     "iopub.execute_input": "2024-06-06T17:29:11.968402Z",
     "iopub.status.idle": "2024-06-06T17:29:15.493953Z",
     "shell.execute_reply.started": "2024-06-06T17:29:11.968354Z",
     "shell.execute_reply": "2024-06-06T17:29:15.492823Z"
    },
    "trusted": true
   },
   "execution_count": 3,
   "outputs": [],
   "id": "9479f31df9241211"
  },
  {
   "metadata": {
    "ExecuteTime": {
     "end_time": "2024-06-08T12:13:26.796121Z",
     "start_time": "2024-06-08T12:13:26.784571Z"
    }
   },
   "cell_type": "code",
   "source": [
    "from dotenv import load_dotenv\n",
    "import os\n",
    "\n",
    "load_dotenv()"
   ],
   "id": "101353cd31c9566b",
   "outputs": [
    {
     "data": {
      "text/plain": [
       "True"
      ]
     },
     "execution_count": 1,
     "metadata": {},
     "output_type": "execute_result"
    }
   ],
   "execution_count": 1
  },
  {
   "cell_type": "code",
   "source": [
    "from boto3.session import Session\n",
    "import boto3\n",
    "\n",
    "ACCESS_KEY = os.getenv(\"AWS_ACCESS_KEY\")\n",
    "SECRET_KEY = os.getenv(\"AWS_SECRET_KEY\")\n",
    "\n",
    "session = Session(aws_access_key_id=ACCESS_KEY,\n",
    "              aws_secret_access_key=SECRET_KEY)\n",
    "s3 = session.resource('s3')\n",
    "your_bucket = s3.Bucket(os.getenv(\"AWS_BUCKET_NAME\"))\n",
    "\n",
    "for s3_file in your_bucket.objects.all():\n",
    "    print(s3_file.key) # prints the contents of bucket\n",
    "\n",
    "s3 = session.client('s3')\n",
    "\n",
    "s3.download_file(os.getenv(\"AWS_BUCKET_NAME\"),'data/imdb_dataset.csv',f'{data_path}/imdb_dataset.csv')"
   ],
   "metadata": {
    "execution": {
     "iopub.status.busy": "2024-06-06T17:32:25.192187Z",
     "iopub.status.idle": "2024-06-06T17:32:25.192707Z",
     "shell.execute_reply.started": "2024-06-06T17:32:25.192431Z",
     "shell.execute_reply": "2024-06-06T17:32:25.192452Z"
    },
    "trusted": true
   },
   "execution_count": null,
   "outputs": [],
   "id": "e857844a056f0276"
  },
  {
   "cell_type": "code",
   "source": [
    "# mlflow.set_tracking_uri(uri=\"http://localhost:5000\")\n",
    "mlflow.set_tracking_uri(os.getenv(\"MLFLOW_TRACKING_URI\"))\n",
    "mlflow.pytorch.autolog()"
   ],
   "metadata": {
    "ExecuteTime": {
     "end_time": "2024-06-06T07:57:52.538323Z",
     "start_time": "2024-06-06T07:57:52.484446Z"
    },
    "execution": {
     "iopub.status.busy": "2024-06-06T17:32:25.194182Z",
     "iopub.status.idle": "2024-06-06T17:32:25.194564Z",
     "shell.execute_reply.started": "2024-06-06T17:32:25.194372Z",
     "shell.execute_reply": "2024-06-06T17:32:25.194387Z"
    },
    "trusted": true
   },
   "execution_count": null,
   "outputs": [],
   "id": "f5ece37623222ddf"
  },
  {
   "cell_type": "markdown",
   "source": "# 1. Model Extraction",
   "metadata": {},
   "id": "c948e8c5bd48d43a"
  },
  {
   "cell_type": "code",
   "source": "model_id = \"bert-base-uncased\"\nmodel = BertForSequenceClassification.from_pretrained(\n    model_id,\n    num_labels = 2,\n    output_attentions = False,\n    output_hidden_states = False\n)\n",
   "metadata": {
    "ExecuteTime": {
     "end_time": "2024-06-06T07:57:57.650227Z",
     "start_time": "2024-06-06T07:57:52.894740Z"
    },
    "execution": {
     "iopub.status.busy": "2024-06-06T17:32:25.196117Z",
     "iopub.status.idle": "2024-06-06T17:32:25.196458Z",
     "shell.execute_reply.started": "2024-06-06T17:32:25.196287Z",
     "shell.execute_reply": "2024-06-06T17:32:25.196303Z"
    },
    "trusted": true
   },
   "execution_count": null,
   "outputs": [],
   "id": "3869bca0ea4ebe7c"
  },
  {
   "cell_type": "code",
   "source": "label_dict = dict({'positive': 1, 'negative': 0})\ndata = pd.read_csv(f\"{data_path}/imdb_dataset.csv\")\ndata['sentiment'] = data['sentiment'].map(label_dict)\ndata = data[:10]",
   "metadata": {
    "ExecuteTime": {
     "end_time": "2024-06-06T08:57:01.538568Z",
     "start_time": "2024-06-06T08:57:00.496519Z"
    },
    "execution": {
     "iopub.status.busy": "2024-06-06T17:32:25.197833Z",
     "iopub.status.idle": "2024-06-06T17:32:25.198226Z",
     "shell.execute_reply.started": "2024-06-06T17:32:25.198045Z",
     "shell.execute_reply": "2024-06-06T17:32:25.198062Z"
    },
    "trusted": true
   },
   "execution_count": null,
   "outputs": [],
   "id": "445314f60ba8608c"
  },
  {
   "cell_type": "markdown",
   "source": "# 2. Train Test Split",
   "metadata": {},
   "id": "f240e060703092de"
  },
  {
   "cell_type": "code",
   "source": "X_train, X_test, y_train, y_test = train_test_split(data.drop(columns=['sentiment']), data['sentiment'], test_size=0.2, random_state=42)",
   "metadata": {
    "ExecuteTime": {
     "end_time": "2024-06-06T08:57:01.547882Z",
     "start_time": "2024-06-06T08:57:01.539841Z"
    },
    "execution": {
     "iopub.status.busy": "2024-06-06T17:32:25.199584Z",
     "iopub.status.idle": "2024-06-06T17:32:25.199936Z",
     "shell.execute_reply.started": "2024-06-06T17:32:25.199757Z",
     "shell.execute_reply": "2024-06-06T17:32:25.199772Z"
    },
    "trusted": true
   },
   "execution_count": null,
   "outputs": [],
   "id": "65c12bab1dff341"
  },
  {
   "cell_type": "markdown",
   "source": "# 3. Data Preparation",
   "metadata": {},
   "id": "92cd831c5a11f5cf"
  },
  {
   "cell_type": "code",
   "source": "tokenizer = BertTokenizerFast.from_pretrained(\n    'bert-base-uncased',\n    do_lower_case=True\n)",
   "metadata": {
    "ExecuteTime": {
     "end_time": "2024-06-06T08:57:05.705659Z",
     "start_time": "2024-06-06T08:57:02.256336Z"
    },
    "execution": {
     "iopub.status.busy": "2024-06-06T17:32:25.201325Z",
     "iopub.status.idle": "2024-06-06T17:32:25.201667Z",
     "shell.execute_reply.started": "2024-06-06T17:32:25.201492Z",
     "shell.execute_reply": "2024-06-06T17:32:25.201506Z"
    },
    "trusted": true
   },
   "execution_count": null,
   "outputs": [],
   "id": "fc73e1256158007f"
  },
  {
   "cell_type": "code",
   "source": "\nencoded_data_train = tokenizer.batch_encode_plus(\n    list(X_train.review.values),\n    add_special_tokens=True,\n    return_attention_mask=True,\n    padding=True,\n    max_length=256,\n    return_tensors='pt',\n    truncation=True\n)\n\nencoded_data_val = tokenizer.batch_encode_plus(\n    list(X_test.review.values),\n    add_special_tokens=True,\n    return_attention_mask=True,\n    padding=True,\n    max_length=256,\n    return_tensors='pt',\n    truncation=True\n\n)\n\ninput_ids_train = encoded_data_train['input_ids']\nattention_masks_train = encoded_data_train['attention_mask']\nlabels_train = torch.tensor(y_train.values)\n\ninput_ids_val = encoded_data_val['input_ids']\nattention_masks_val = encoded_data_val['attention_mask']\nlabels_val = torch.tensor(y_test.values)",
   "metadata": {
    "ExecuteTime": {
     "end_time": "2024-06-06T08:57:05.980927Z",
     "start_time": "2024-06-06T08:57:05.707594Z"
    },
    "execution": {
     "iopub.status.busy": "2024-06-06T17:32:25.202785Z",
     "iopub.status.idle": "2024-06-06T17:32:25.203159Z",
     "shell.execute_reply.started": "2024-06-06T17:32:25.202949Z",
     "shell.execute_reply": "2024-06-06T17:32:25.202962Z"
    },
    "trusted": true
   },
   "execution_count": null,
   "outputs": [],
   "id": "9fcc8ce469078d82"
  },
  {
   "cell_type": "code",
   "source": "dataset_train = TensorDataset(input_ids_train,\n                              attention_masks_train,\n                              labels_train)\n\ndataset_val = TensorDataset(input_ids_val,\n                            attention_masks_val,\n                            labels_val)",
   "metadata": {
    "ExecuteTime": {
     "end_time": "2024-06-06T08:57:05.984362Z",
     "start_time": "2024-06-06T08:57:05.981883Z"
    },
    "execution": {
     "iopub.status.busy": "2024-06-06T17:32:25.204363Z",
     "iopub.status.idle": "2024-06-06T17:32:25.204731Z",
     "shell.execute_reply.started": "2024-06-06T17:32:25.204552Z",
     "shell.execute_reply": "2024-06-06T17:32:25.204568Z"
    },
    "trusted": true
   },
   "execution_count": null,
   "outputs": [],
   "id": "fef11b0189e8b585"
  },
  {
   "cell_type": "markdown",
   "source": "# 5. Creating Data Loaders\n",
   "metadata": {},
   "id": "2d1932f7fe676126"
  },
  {
   "cell_type": "code",
   "source": "batch_size = 32\n\ndataloader_train = DataLoader(\n    dataset_train,\n    sampler=RandomSampler(dataset_train),\n    batch_size=batch_size\n)\n\ndataloader_val = DataLoader(\n    dataset_val,\n    sampler=RandomSampler(dataset_val),\n    batch_size=batch_size\n)",
   "metadata": {
    "ExecuteTime": {
     "end_time": "2024-06-06T08:57:05.988770Z",
     "start_time": "2024-06-06T08:57:05.986216Z"
    },
    "execution": {
     "iopub.status.busy": "2024-06-06T17:32:25.206232Z",
     "iopub.status.idle": "2024-06-06T17:32:25.206607Z",
     "shell.execute_reply.started": "2024-06-06T17:32:25.206418Z",
     "shell.execute_reply": "2024-06-06T17:32:25.206434Z"
    },
    "trusted": true
   },
   "execution_count": null,
   "outputs": [],
   "id": "a89e27da618c3b41"
  },
  {
   "cell_type": "markdown",
   "source": "# 6. Setting up Optimizer",
   "metadata": {},
   "id": "31a1a510a506b9b5"
  },
  {
   "cell_type": "code",
   "source": "optimizer = AdamW(\n    model.parameters(),\n    lr = 1e-5,\n    eps = 1e-8\n)",
   "metadata": {
    "ExecuteTime": {
     "end_time": "2024-06-06T08:57:05.994618Z",
     "start_time": "2024-06-06T08:57:05.989558Z"
    },
    "execution": {
     "iopub.status.busy": "2024-06-06T17:32:25.208422Z",
     "iopub.status.idle": "2024-06-06T17:32:25.208792Z",
     "shell.execute_reply.started": "2024-06-06T17:32:25.208614Z",
     "shell.execute_reply": "2024-06-06T17:32:25.208629Z"
    },
    "trusted": true
   },
   "execution_count": null,
   "outputs": [],
   "id": "4095c7d4d29f39b2"
  },
  {
   "cell_type": "code",
   "source": "epochs = 10\n\nscheduler = get_linear_schedule_with_warmup(\n    optimizer,\n    num_warmup_steps=0,\n    num_training_steps = len(dataloader_train)*epochs\n)",
   "metadata": {
    "ExecuteTime": {
     "end_time": "2024-06-06T08:57:06.090060Z",
     "start_time": "2024-06-06T08:57:05.995575Z"
    },
    "execution": {
     "iopub.status.busy": "2024-06-06T17:32:25.210115Z",
     "iopub.status.idle": "2024-06-06T17:32:25.210484Z",
     "shell.execute_reply.started": "2024-06-06T17:32:25.210304Z",
     "shell.execute_reply": "2024-06-06T17:32:25.210320Z"
    },
    "trusted": true
   },
   "execution_count": null,
   "outputs": [],
   "id": "a4be938fbba55730"
  },
  {
   "cell_type": "markdown",
   "source": "# 7. Defining our Performance Metrics",
   "metadata": {},
   "id": "367cc5250134a569"
  },
  {
   "cell_type": "code",
   "source": "def f1_score_func(preds, labels):\n    preds_flat = np.argmax(preds, axis=1).flatten()\n    labels_flat = labels.flatten()\n    return f1_score(labels_flat, preds_flat, average = 'weighted')",
   "metadata": {
    "ExecuteTime": {
     "end_time": "2024-06-06T08:57:06.093350Z",
     "start_time": "2024-06-06T08:57:06.090902Z"
    },
    "execution": {
     "iopub.status.busy": "2024-06-06T17:32:25.211894Z",
     "iopub.status.idle": "2024-06-06T17:32:25.212298Z",
     "shell.execute_reply.started": "2024-06-06T17:32:25.212115Z",
     "shell.execute_reply": "2024-06-06T17:32:25.212131Z"
    },
    "trusted": true
   },
   "execution_count": null,
   "outputs": [],
   "id": "170344a5e65fd588"
  },
  {
   "cell_type": "code",
   "source": "def accuracy_per_class(preds, labels):\n    label_dict_inverse = {v: k for k, v in label_dict.items()}\n\n    negative_class = 0\n    positive_class = 1\n    preds_flat = np.argmax(preds, axis=1).flatten()\n    labels_flat = labels.flatten()\n\n    for label in np.unique(labels_flat):\n        y_preds = preds_flat[labels_flat==label]\n        y_true = labels_flat[labels_flat==label]\n        print(f'Class: {label_dict_inverse[label]}')\n        print(f'Accuracy:{len(y_preds[y_preds==label])}/{len(y_true)}\\n')\n\n    return (len(y_preds[y_preds == negative_class])/ len(labels_flat[labels_flat==negative_class]), \n            len(y_preds[y_preds == positive_class])/ len(labels_flat[labels_flat==positive_class]))",
   "metadata": {
    "ExecuteTime": {
     "end_time": "2024-06-06T08:57:06.097107Z",
     "start_time": "2024-06-06T08:57:06.094094Z"
    },
    "execution": {
     "iopub.status.busy": "2024-06-06T17:32:25.213855Z",
     "iopub.status.idle": "2024-06-06T17:32:25.214252Z",
     "shell.execute_reply.started": "2024-06-06T17:32:25.214058Z",
     "shell.execute_reply": "2024-06-06T17:32:25.214076Z"
    },
    "trusted": true
   },
   "execution_count": null,
   "outputs": [],
   "id": "81bb9de2c8e4c8f"
  },
  {
   "cell_type": "markdown",
   "source": "# 8. Creating our Training Loop",
   "metadata": {},
   "id": "55f3961bd2f0b39e"
  },
  {
   "cell_type": "code",
   "source": "seed_val = 17\nrandom.seed(seed_val)\nnp.random.seed(seed_val)\ntorch.manual_seed(seed_val)\ntorch.cuda.manual_seed_all(seed_val)",
   "metadata": {
    "ExecuteTime": {
     "end_time": "2024-06-06T08:57:06.123719Z",
     "start_time": "2024-06-06T08:57:06.120073Z"
    },
    "execution": {
     "iopub.status.busy": "2024-06-06T17:32:25.215455Z",
     "iopub.status.idle": "2024-06-06T17:32:25.215795Z",
     "shell.execute_reply.started": "2024-06-06T17:32:25.215627Z",
     "shell.execute_reply": "2024-06-06T17:32:25.215642Z"
    },
    "trusted": true
   },
   "execution_count": null,
   "outputs": [],
   "id": "6defbf96b1f291a9"
  },
  {
   "cell_type": "code",
   "source": "device = torch.device('cuda' if torch.cuda.is_available() else 'cpu')\nmodel.to(device)\nprint(device)",
   "metadata": {
    "ExecuteTime": {
     "end_time": "2024-06-06T08:57:06.160342Z",
     "start_time": "2024-06-06T08:57:06.154884Z"
    },
    "execution": {
     "iopub.status.busy": "2024-06-06T17:32:25.217883Z",
     "iopub.status.idle": "2024-06-06T17:32:25.218403Z",
     "shell.execute_reply.started": "2024-06-06T17:32:25.218144Z",
     "shell.execute_reply": "2024-06-06T17:32:25.218165Z"
    },
    "trusted": true
   },
   "execution_count": null,
   "outputs": [],
   "id": "96894e674e03c7d2"
  },
  {
   "cell_type": "code",
   "source": "def evaluate(dataloader_val):\n    model.eval()\n\n    loss_val_total = 0\n    predictions, true_vals = [], []\n\n    for batch in tqdm(dataloader_val):\n\n        batch = tuple(b.to(device) for b in batch)\n\n        inputs = {'input_ids':      batch[0],\n                  'attention_mask': batch[1],\n                  'labels':         batch[2],\n                  }\n\n        with torch.no_grad():\n            outputs = model(**inputs)\n\n        loss = outputs[0]\n        logits = outputs[1]\n        loss_val_total += loss.item()\n\n        logits = logits.detach().cpu().numpy()\n        label_ids = inputs['labels'].cpu().numpy()\n        predictions.append(logits)\n        true_vals.append(label_ids)\n\n    loss_val_avg = loss_val_total/len(dataloader_val)\n\n    predictions = np.concatenate(predictions, axis=0)\n    true_vals = np.concatenate(true_vals, axis=0)\n\n    return loss_val_avg, predictions, true_vals",
   "metadata": {
    "ExecuteTime": {
     "end_time": "2024-06-06T08:57:06.407604Z",
     "start_time": "2024-06-06T08:57:06.402818Z"
    },
    "execution": {
     "iopub.status.busy": "2024-06-06T17:32:25.219522Z",
     "iopub.status.idle": "2024-06-06T17:32:25.220052Z",
     "shell.execute_reply.started": "2024-06-06T17:32:25.219770Z",
     "shell.execute_reply": "2024-06-06T17:32:25.219792Z"
    },
    "trusted": true
   },
   "execution_count": null,
   "outputs": [],
   "id": "4d79fb2d00063753"
  },
  {
   "cell_type": "code",
   "source": "def train(model):\n    for epoch in range(1, epochs + 1):\n        model.train()\n        loss_train_total = 0\n\n        progress_bar = tqdm(dataloader_train,\n                            desc=f'Epoch {epoch}',\n                            leave=False,\n                            disable=False)\n\n        for batch_idx, batch in enumerate(progress_bar):\n            model.zero_grad()\n            batch = tuple(b.to(device) for b in batch)\n            inputs = {\n                'input_ids': batch[0],\n                'attention_mask': batch[1],\n                'labels': batch[2]\n            }\n\n            outputs = model(**inputs)\n            loss = outputs[0]\n\n            loss_train_total += loss.item()\n            loss.backward()\n\n            torch.nn.utils.clip_grad_norm_(model.parameters(), 1.0)\n\n            optimizer.step()\n            scheduler.step()\n\n            progress_bar.set_postfix({'training_loss': f'{loss.item() / len(batch):.3f}'})\n\n        tqdm.write(f'\\nEpoch {epoch}')\n        loss_train_avg = loss_train_total / len(dataloader_train)\n        tqdm.write(f'Training loss: {loss_train_avg}')\n\n        val_loss, predictions, true_vals = evaluate(dataloader_val)\n        val_f1 = f1_score_func(predictions, true_vals)\n        tqdm.write(f'Validation loss: {val_loss}')\n        tqdm.write(f'F1 Score (weighted): {val_f1}')\n        accuracy = accuracy_per_class(predictions, true_vals)\n\n        mlflow.log_metrics({\n            \"val_loss\": val_loss,\n            \"val_f1\": val_f1,\n            \"accuracy_positive\": accuracy[0],\n            \"accuracy_negative\": accuracy[1]\n        },  step=epoch)",
   "metadata": {
    "ExecuteTime": {
     "end_time": "2024-06-06T08:57:07.064767Z",
     "start_time": "2024-06-06T08:57:07.060034Z"
    },
    "execution": {
     "iopub.status.busy": "2024-06-06T17:32:25.221454Z",
     "iopub.status.idle": "2024-06-06T17:32:25.221944Z",
     "shell.execute_reply.started": "2024-06-06T17:32:25.221700Z",
     "shell.execute_reply": "2024-06-06T17:32:25.221721Z"
    },
    "trusted": true
   },
   "execution_count": null,
   "outputs": [],
   "id": "16e0e52c442d1e15"
  },
  {
   "cell_type": "code",
   "source": "expr_name = \"/Users/yuriivoievidka/bert-base-uncased-train\"\ns3_bucket = \"s3://model-storage-05062024\"\n# mlflow.create_experiment(expr_name, artifact_location=s3_bucket)\n# mlflow.set_experiment(expr_name)\nmlflow.set_experiment(expr_name)\n",
   "metadata": {
    "execution": {
     "iopub.status.busy": "2024-06-06T17:32:25.223420Z",
     "iopub.status.idle": "2024-06-06T17:32:25.223916Z",
     "shell.execute_reply.started": "2024-06-06T17:32:25.223663Z",
     "shell.execute_reply": "2024-06-06T17:32:25.223685Z"
    },
    "trusted": true
   },
   "execution_count": null,
   "outputs": [],
   "id": "ecf1d1d27f087d22"
  },
  {
   "cell_type": "code",
   "source": "with mlflow.start_run() as run:\n    mlflow.set_tag(\"Training Info\", \"Training BERT on IMDB Dataset\")\n    mlflow.log_param(\"model_name\", 'bert-base-uncased')\n    mlflow.log_param(\"num_train_epochs\", epochs)\n    mlflow.log_param(\"per_device_train_batch_size\", batch_size)\n\n    train(model)\n\n    model_name = \"BERT_IMDB_Classification\"\n    result = mlflow.register_model(\n        \"runs:/{}/model\".format(mlflow.active_run().info.run_id),\n        model_name\n    )\n\n    print(run.info)\n\n    artifact_path = f\"bert-imdb-sentiment-analyser\"\n    mlflow.pytorch.log_model(model, artifact_path)\n    print(mlflow.get_artifact_uri(artifact_path))\n\nmlflow.end_run()",
   "metadata": {
    "ExecuteTime": {
     "end_time": "2024-06-06T08:58:41.170073Z",
     "start_time": "2024-06-06T08:57:07.475849Z"
    },
    "execution": {
     "iopub.status.busy": "2024-06-06T17:32:25.225490Z",
     "iopub.status.idle": "2024-06-06T17:32:25.225853Z",
     "shell.execute_reply.started": "2024-06-06T17:32:25.225675Z",
     "shell.execute_reply": "2024-06-06T17:32:25.225691Z"
    },
    "trusted": true
   },
   "execution_count": null,
   "outputs": [],
   "id": "f06fa8b8d63def7f"
  },
  {
   "cell_type": "code",
   "source": "",
   "metadata": {},
   "execution_count": null,
   "outputs": [],
   "id": "d1f60db2acdee67b"
  },
  {
   "cell_type": "code",
   "source": "",
   "metadata": {},
   "execution_count": null,
   "outputs": [],
   "id": "7409faf1475e1fa9"
  }
 ]
}
